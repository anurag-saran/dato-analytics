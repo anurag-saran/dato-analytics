{
 "cells": [
  {
   "cell_type": "markdown",
   "metadata": {},
   "source": [
    "### Buy Books in day, Home products in night. Collaborate filtering can work better than classification approach. as we might not know sex, age of a person, product info is badly written. \n",
    "### Collaborate filtering customer who bought this also bought. i.e. Co-Occurrence Matrix of purchases. \n",
    "### Jaccard Similarity : normalises by popularity so that very popular prods do not drown out other items."
   ]
  },
  {
   "cell_type": "code",
   "execution_count": null,
   "metadata": {
    "collapsed": true
   },
   "outputs": [],
   "source": []
  }
 ],
 "metadata": {
  "kernelspec": {
   "display_name": "Python 2",
   "language": "python",
   "name": "python2"
  },
  "language_info": {
   "codemirror_mode": {
    "name": "ipython",
    "version": 2
   },
   "file_extension": ".py",
   "mimetype": "text/x-python",
   "name": "python",
   "nbconvert_exporter": "python",
   "pygments_lexer": "ipython2",
   "version": "2.7.10"
  }
 },
 "nbformat": 4,
 "nbformat_minor": 0
}
